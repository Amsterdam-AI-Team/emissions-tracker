{
 "cells": [
  {
   "cell_type": "markdown",
   "metadata": {},
   "source": [
    "# Code Carbon Tracking\n",
    "This notebooks is an example of how we can track the carbon impact of our work within the AI Lab.\n",
    "\n",
    "We have several methods dependent on what we want to track.\n",
    "\n",
    "We use a Python Package called CodeCarbon (https://github.com/mlco2/codecarbon) for this."
   ]
  },
  {
   "cell_type": "markdown",
   "metadata": {},
   "source": [
    "### Tracking whole Notebook\n",
    "To track the whole notebook we need to start the tracker at the beginning of the notebook, and stop the tracker in the end of the notebook.\n",
    "\n",
    "We can also use this method for tracking "
   ]
  },
  {
   "cell_type": "code",
   "execution_count": 1,
   "metadata": {},
   "outputs": [
    {
     "name": "stderr",
     "output_type": "stream",
     "text": [
      "[codecarbon INFO @ 12:58:33] [setup] RAM Tracking...\n",
      "[codecarbon INFO @ 12:58:33] [setup] GPU Tracking...\n",
      "[codecarbon INFO @ 12:58:34] No GPU found.\n",
      "[codecarbon INFO @ 12:58:34] [setup] CPU Tracking...\n",
      "[codecarbon WARNING @ 12:58:34] No CPU tracking mode found. Falling back on CPU constant mode. \n",
      " Linux OS detected: Please ensure RAPL files exist at \\sys\\class\\powercap\\intel-rapl to measure CPU\n",
      "\n",
      "[codecarbon INFO @ 12:58:35] CPU Model on constant consumption mode: Intel(R) Xeon(R) Platinum 8171M CPU @ 2.60GHz\n",
      "[codecarbon INFO @ 12:58:35] >>> Tracker's metadata:\n",
      "[codecarbon INFO @ 12:58:35]   Platform system: Linux-5.15.0-1064-azure-x86_64-with-glibc2.31\n",
      "[codecarbon INFO @ 12:58:35]   Python version: 3.10.14\n",
      "[codecarbon INFO @ 12:58:35]   CodeCarbon version: 2.7.1\n",
      "[codecarbon INFO @ 12:58:35]   Available RAM : 13.648 GB\n",
      "[codecarbon INFO @ 12:58:35]   CPU count: 2\n",
      "[codecarbon INFO @ 12:58:35]   CPU model: Intel(R) Xeon(R) Platinum 8171M CPU @ 2.60GHz\n",
      "[codecarbon INFO @ 12:58:35]   GPU count: None\n",
      "[codecarbon INFO @ 12:58:35]   GPU model: None\n",
      "[codecarbon WARNING @ 12:58:35] Cloud provider 'azure' do not publish electricity carbon intensity. Using country value instead.\n",
      "[codecarbon INFO @ 12:58:35] Saving emissions data to file /mnt/batch/tasks/shared/LS_root/mounts/clusters/loektest310/code/emissions.csv\n"
     ]
    }
   ],
   "source": [
    "# Codeblock where we import the EmissionsTracker and start the tracker.\n",
    "# This should be placed at the beginning of the notebook if we want to track the whole notebook.\n",
    "from codecarbon import EmissionsTracker\n",
    "tracker = EmissionsTracker()\n",
    "tracker.start()"
   ]
  },
  {
   "cell_type": "code",
   "execution_count": 2,
   "metadata": {},
   "outputs": [
    {
     "name": "stderr",
     "output_type": "stream",
     "text": [
      "[codecarbon INFO @ 12:58:50] Energy consumed for RAM : 0.000021 kWh. RAM Power : 5.1181769371032715 W\n",
      "[codecarbon INFO @ 12:58:50] Energy consumed for all CPUs : 0.000336 kWh. Total CPU Power : 82.5 W\n",
      "[codecarbon INFO @ 12:58:50] 0.000357 kWh of electricity used since the beginning.\n",
      "/anaconda/envs/azureml_py310_sdkv2/lib/python3.10/site-packages/codecarbon/output_methods/file.py:52: FutureWarning: The behavior of DataFrame concatenation with empty or all-NA entries is deprecated. In a future version, this will no longer exclude empty or all-NA columns when determining the result dtypes. To retain the old behavior, exclude the relevant entries before the concat operation.\n",
      "  df = pd.concat([df, pd.DataFrame.from_records([dict(total.values)])])\n"
     ]
    },
    {
     "data": {
      "text/plain": [
       "9.551571991815342e-05"
      ]
     },
     "execution_count": 2,
     "metadata": {},
     "output_type": "execute_result"
    }
   ],
   "source": [
    "# Codeblock where we stop the tracker.\n",
    "# This should be placed at the end of the notebook if we want to track the whole notebook.\n",
    "tracker.stop()"
   ]
  },
  {
   "cell_type": "markdown",
   "metadata": {},
   "source": [
    "### Tracking multiple _small_ pieces of code individually\n",
    "To track a small piece of code we use the _task manager_. \n",
    "\n",
    "This way CodeCarbon will track the emissions of each task. \n",
    "\n",
    "The task will not be written to disk to prevent overhead, you have to get the results from the return of `stop_task()`. \n",
    "\n",
    "If no name is provided, CodeCarbon will generate a uuid.\n",
    "\n"
   ]
  },
  {
   "cell_type": "code",
   "execution_count": 3,
   "metadata": {},
   "outputs": [
    {
     "name": "stderr",
     "output_type": "stream",
     "text": [
      "/anaconda/envs/azureml_py310_sdkv2/lib/python3.10/site-packages/tqdm/auto.py:21: TqdmWarning: IProgress not found. Please update jupyter and ipywidgets. See https://ipywidgets.readthedocs.io/en/stable/user_install.html\n",
      "  from .autonotebook import tqdm as notebook_tqdm\n",
      "[codecarbon INFO @ 12:58:59] [setup] RAM Tracking...\n",
      "[codecarbon INFO @ 12:58:59] [setup] GPU Tracking...\n",
      "[codecarbon INFO @ 12:59:00] No GPU found.\n",
      "[codecarbon INFO @ 12:59:00] [setup] CPU Tracking...\n",
      "[codecarbon WARNING @ 12:59:00] No CPU tracking mode found. Falling back on CPU constant mode. \n",
      " Linux OS detected: Please ensure RAPL files exist at \\sys\\class\\powercap\\intel-rapl to measure CPU\n",
      "\n",
      "[codecarbon INFO @ 12:59:01] CPU Model on constant consumption mode: Intel(R) Xeon(R) Platinum 8171M CPU @ 2.60GHz\n",
      "[codecarbon INFO @ 12:59:01] >>> Tracker's metadata:\n",
      "[codecarbon INFO @ 12:59:01]   Platform system: Linux-5.15.0-1064-azure-x86_64-with-glibc2.31\n",
      "[codecarbon INFO @ 12:59:01]   Python version: 3.10.14\n",
      "[codecarbon INFO @ 12:59:01]   CodeCarbon version: 2.7.1\n",
      "[codecarbon INFO @ 12:59:01]   Available RAM : 13.648 GB\n",
      "[codecarbon INFO @ 12:59:01]   CPU count: 2\n",
      "[codecarbon INFO @ 12:59:01]   CPU model: Intel(R) Xeon(R) Platinum 8171M CPU @ 2.60GHz\n",
      "[codecarbon INFO @ 12:59:01]   GPU count: None\n",
      "[codecarbon INFO @ 12:59:01]   GPU model: None\n",
      "[codecarbon WARNING @ 12:59:01] Cloud provider 'azure' do not publish electricity carbon intensity. Using country value instead.\n",
      "[codecarbon INFO @ 12:59:02] Saving emissions data to file /mnt/batch/tasks/shared/LS_root/mounts/clusters/loektest310/code/emissions.csv\n",
      "[codecarbon INFO @ 12:59:02] Energy consumed for RAM : 0.000000 kWh. RAM Power : 5.1181769371032715 W\n",
      "[codecarbon INFO @ 12:59:02] Energy consumed for all CPUs : 0.000000 kWh. Total CPU Power : 82.5 W\n",
      "[codecarbon INFO @ 12:59:02] 0.000000 kWh of electricity used since the beginning.\n",
      "[codecarbon INFO @ 12:59:02] Energy consumed for RAM : 0.000000 kWh. RAM Power : 5.1181769371032715 W\n",
      "[codecarbon INFO @ 12:59:02] Energy consumed for all CPUs : 0.000000 kWh. Total CPU Power : 82.5 W\n",
      "[codecarbon INFO @ 12:59:02] 0.000000 kWh of electricity used since the beginning.\n",
      "/anaconda/envs/azureml_py310_sdkv2/lib/python3.10/site-packages/codecarbon/output_methods/file.py:81: FutureWarning: The behavior of DataFrame concatenation with empty or all-NA entries is deprecated. In a future version, this will no longer exclude empty or all-NA columns when determining the result dtypes. To retain the old behavior, exclude the relevant entries before the concat operation.\n",
      "  df = pd.concat(\n"
     ]
    },
    {
     "ename": "NameError",
     "evalue": "name 'load_dataset' is not defined",
     "output_type": "error",
     "traceback": [
      "\u001b[0;31m---------------------------------------------------------------------------\u001b[0m",
      "\u001b[0;31mNameError\u001b[0m                                 Traceback (most recent call last)",
      "Cell \u001b[0;32mIn[3], line 8\u001b[0m\n\u001b[1;32m      6\u001b[0m \u001b[38;5;66;03m# We start a specific task using the tracker\u001b[39;00m\n\u001b[1;32m      7\u001b[0m tracker\u001b[38;5;241m.\u001b[39mstart_task(\u001b[38;5;124m\"\u001b[39m\u001b[38;5;124mload dataset\u001b[39m\u001b[38;5;124m\"\u001b[39m)\n\u001b[0;32m----> 8\u001b[0m dataset \u001b[38;5;241m=\u001b[39m \u001b[43mload_dataset\u001b[49m(\u001b[38;5;124m\"\u001b[39m\u001b[38;5;124mimdb\u001b[39m\u001b[38;5;124m\"\u001b[39m, split\u001b[38;5;241m=\u001b[39m\u001b[38;5;124m\"\u001b[39m\u001b[38;5;124mtest\u001b[39m\u001b[38;5;124m\"\u001b[39m)\n\u001b[1;32m      9\u001b[0m \u001b[38;5;66;03m# We have to stop individual tasks\u001b[39;00m\n\u001b[1;32m     10\u001b[0m imdb_emissions \u001b[38;5;241m=\u001b[39m tracker\u001b[38;5;241m.\u001b[39mstop_task()\n",
      "\u001b[0;31mNameError\u001b[0m: name 'load_dataset' is not defined"
     ]
    }
   ],
   "source": [
    "from codecarbon import EmissionsTracker\n",
    "import datasets\n",
    "\n",
    "try:\n",
    "    tracker = EmissionsTracker(project_name=\"small_pieces\", measure_power_secs=10)\n",
    "    # We start a specific task using the tracker\n",
    "    tracker.start_task(\"load dataset\")\n",
    "    dataset = load_dataset(\"imdb\", split=\"test\")\n",
    "    # We have to stop individual tasks\n",
    "    imdb_emissions = tracker.stop_task()\n",
    "    tracker.start_task(\"build model\")\n",
    "    model = build_model()\n",
    "    model_emissions = tracker.stop_task()\n",
    "finally:\n",
    "    # We \n",
    "    _ = tracker.stop()"
   ]
  },
  {
   "cell_type": "markdown",
   "metadata": {},
   "source": [
    "Please note that you can’t use task mode and normal mode at the same time. \n",
    "\n",
    "Because `start_task` will stop the scheduler to prevent it interfering with the task measurement.\n",
    "\n"
   ]
  },
  {
   "cell_type": "markdown",
   "metadata": {},
   "source": [
    "### Tracking a specific codeblock\n",
    "To track a specific codeblock we can use the `EmissionsTracker` as a context manager."
   ]
  },
  {
   "cell_type": "code",
   "execution_count": null,
   "metadata": {},
   "outputs": [],
   "source": [
    "from codecarbon import EmissionsTracker\n",
    "\n",
    "with EmissionsTracker() as tracker:\n",
    "    # Compute intensive training code goes here"
   ]
  },
  {
   "cell_type": "markdown",
   "metadata": {},
   "source": [
    "### Tracking a function\n",
    "To track code wrapped within a function, we can use the decorator `@track_emissions` within the function."
   ]
  },
  {
   "cell_type": "code",
   "execution_count": null,
   "metadata": {},
   "outputs": [],
   "source": [
    "from codecarbon import track_emissions\n",
    "\n",
    "@track_emissions\n",
    "def training_loop():\n",
    "    # Compute intensive training code goes here"
   ]
  },
  {
   "cell_type": "markdown",
   "metadata": {},
   "source": [
    "## Examples\n",
    "Following are examples to train a Deep Learning model on MNIST Data to recognize digits in images using TensorFlow. "
   ]
  },
  {
   "cell_type": "markdown",
   "metadata": {},
   "source": [
    "### Using the Explicit Object\n",
    "We can use this to simply start and stop a tracker object and track all code between start and stop."
   ]
  },
  {
   "cell_type": "code",
   "execution_count": 4,
   "metadata": {},
   "outputs": [
    {
     "name": "stderr",
     "output_type": "stream",
     "text": [
      "[codecarbon INFO @ 12:59:13] [setup] RAM Tracking...\n",
      "[codecarbon INFO @ 12:59:13] [setup] GPU Tracking...\n",
      "[codecarbon INFO @ 12:59:15] No GPU found.\n",
      "[codecarbon INFO @ 12:59:15] [setup] CPU Tracking...\n",
      "[codecarbon WARNING @ 12:59:15] No CPU tracking mode found. Falling back on CPU constant mode. \n",
      " Linux OS detected: Please ensure RAPL files exist at \\sys\\class\\powercap\\intel-rapl to measure CPU\n",
      "\n",
      "[codecarbon INFO @ 12:59:16] CPU Model on constant consumption mode: Intel(R) Xeon(R) Platinum 8171M CPU @ 2.60GHz\n",
      "[codecarbon INFO @ 12:59:16] >>> Tracker's metadata:\n",
      "[codecarbon INFO @ 12:59:16]   Platform system: Linux-5.15.0-1064-azure-x86_64-with-glibc2.31\n",
      "[codecarbon INFO @ 12:59:16]   Python version: 3.10.14\n",
      "[codecarbon INFO @ 12:59:16]   CodeCarbon version: 2.7.1\n",
      "[codecarbon INFO @ 12:59:16]   Available RAM : 13.648 GB\n",
      "[codecarbon INFO @ 12:59:16]   CPU count: 2\n",
      "[codecarbon INFO @ 12:59:16]   CPU model: Intel(R) Xeon(R) Platinum 8171M CPU @ 2.60GHz\n",
      "[codecarbon INFO @ 12:59:16]   GPU count: None\n",
      "[codecarbon INFO @ 12:59:16]   GPU model: None\n",
      "[codecarbon WARNING @ 12:59:16] Cloud provider 'azure' do not publish electricity carbon intensity. Using country value instead.\n",
      "[codecarbon INFO @ 12:59:16] Saving emissions data to file /mnt/batch/tasks/shared/LS_root/mounts/clusters/loektest310/code/emissions.csv\n",
      "[codecarbon INFO @ 12:59:21] Energy consumed for RAM : 0.000007 kWh. RAM Power : 5.1181769371032715 W\n",
      "[codecarbon INFO @ 12:59:21] Energy consumed for all CPUs : 0.000115 kWh. Total CPU Power : 82.5 W\n",
      "[codecarbon INFO @ 12:59:21] 0.000122 kWh of electricity used since the beginning.\n"
     ]
    },
    {
     "name": "stdout",
     "output_type": "stream",
     "text": [
      "Emissions during training: 0.00003267 kg CO2eq\n"
     ]
    }
   ],
   "source": [
    "import numpy as np\n",
    "from sklearn.model_selection import train_test_split\n",
    "from sklearn.linear_model import LogisticRegression\n",
    "from sklearn.metrics import accuracy_score\n",
    "import time\n",
    "\n",
    "from codecarbon import EmissionsTracker\n",
    "\n",
    "# We create some random data to \n",
    "np.random.seed(42)  \n",
    "X = np.random.rand(1000, 5)  \n",
    "y = (np.sum(X, axis=1) > 2.5).astype(int) \n",
    "\n",
    "# Split the data into training and testing sets (80% train, 20% test)\n",
    "X_train, X_test, y_train, y_test = train_test_split(X, y, test_size=0.2, random_state=42)\n",
    "\n",
    "# Initialize and train a simple logistic regression model\n",
    "model = LogisticRegression()\n",
    "\n",
    "# Initialize and start the emissions tracker\n",
    "tracker = EmissionsTracker('explicit_object')\n",
    "tracker.start()\n",
    "\n",
    "# Fit the model\n",
    "model.fit(X_train, y_train)\n",
    "\n",
    "# We sleep for 5 sec to actually have some results\n",
    "time.sleep(5)\n",
    "\n",
    "# Stop the emissions tracker and output the emissions data\n",
    "emissions: float =  tracker.stop()\n",
    "print(f\"Emissions during training: {emissions:.8f} kg CO2eq\")\n"
   ]
  },
  {
   "cell_type": "markdown",
   "metadata": {},
   "source": [
    "### Using the Context Manager"
   ]
  },
  {
   "cell_type": "code",
   "execution_count": 5,
   "metadata": {},
   "outputs": [
    {
     "name": "stderr",
     "output_type": "stream",
     "text": [
      "[codecarbon INFO @ 12:59:25] [setup] RAM Tracking...\n",
      "[codecarbon INFO @ 12:59:25] [setup] GPU Tracking...\n",
      "[codecarbon INFO @ 12:59:26] No GPU found.\n",
      "[codecarbon INFO @ 12:59:26] [setup] CPU Tracking...\n",
      "[codecarbon WARNING @ 12:59:26] No CPU tracking mode found. Falling back on CPU constant mode. \n",
      " Linux OS detected: Please ensure RAPL files exist at \\sys\\class\\powercap\\intel-rapl to measure CPU\n",
      "\n",
      "[codecarbon INFO @ 12:59:28] CPU Model on constant consumption mode: Intel(R) Xeon(R) Platinum 8171M CPU @ 2.60GHz\n",
      "[codecarbon INFO @ 12:59:28] >>> Tracker's metadata:\n",
      "[codecarbon INFO @ 12:59:28]   Platform system: Linux-5.15.0-1064-azure-x86_64-with-glibc2.31\n",
      "[codecarbon INFO @ 12:59:28]   Python version: 3.10.14\n",
      "[codecarbon INFO @ 12:59:28]   CodeCarbon version: 2.7.1\n",
      "[codecarbon INFO @ 12:59:28]   Available RAM : 13.648 GB\n",
      "[codecarbon INFO @ 12:59:28]   CPU count: 2\n",
      "[codecarbon INFO @ 12:59:28]   CPU model: Intel(R) Xeon(R) Platinum 8171M CPU @ 2.60GHz\n",
      "[codecarbon INFO @ 12:59:28]   GPU count: None\n",
      "[codecarbon INFO @ 12:59:28]   GPU model: None\n",
      "[codecarbon WARNING @ 12:59:28] Cloud provider 'azure' do not publish electricity carbon intensity. Using country value instead.\n",
      "[codecarbon INFO @ 12:59:28] Saving emissions data to file /mnt/batch/tasks/shared/LS_root/mounts/clusters/loektest310/code/emissions.csv\n",
      "[codecarbon INFO @ 12:59:33] Energy consumed for RAM : 0.000007 kWh. RAM Power : 5.1181769371032715 W\n",
      "[codecarbon INFO @ 12:59:33] Energy consumed for all CPUs : 0.000115 kWh. Total CPU Power : 82.5 W\n",
      "[codecarbon INFO @ 12:59:33] 0.000122 kWh of electricity used since the beginning.\n"
     ]
    }
   ],
   "source": [
    "import numpy as np\n",
    "from sklearn.model_selection import train_test_split\n",
    "from sklearn.linear_model import LogisticRegression\n",
    "from sklearn.metrics import accuracy_score\n",
    "import time\n",
    "\n",
    "from codecarbon import EmissionsTracker\n",
    "\n",
    "# We create some random data to \n",
    "np.random.seed(42)  \n",
    "X = np.random.rand(1000, 5)  \n",
    "y = (np.sum(X, axis=1) > 2.5).astype(int) \n",
    "\n",
    "# Split the data into training and testing sets (80% train, 20% test)\n",
    "X_train, X_test, y_train, y_test = train_test_split(X, y, test_size=0.2, random_state=42)\n",
    "\n",
    "# Initialize and train a simple logistic regression model\n",
    "model = LogisticRegression()\n",
    "\n",
    "\n",
    "with EmissionsTracker('context_manager') as tracker:\n",
    "    # Fit the model\n",
    "    model.fit(X_train, y_train)\n",
    "    # We sleep for 5 sec to actually have some results\n",
    "    time.sleep(5)\n",
    "    "
   ]
  },
  {
   "cell_type": "markdown",
   "metadata": {},
   "source": [
    "### Using the Decorator"
   ]
  },
  {
   "cell_type": "code",
   "execution_count": 6,
   "metadata": {},
   "outputs": [
    {
     "name": "stderr",
     "output_type": "stream",
     "text": [
      "[codecarbon INFO @ 12:59:44] [setup] RAM Tracking...\n",
      "[codecarbon INFO @ 12:59:44] [setup] GPU Tracking...\n",
      "[codecarbon INFO @ 12:59:45] No GPU found.\n",
      "[codecarbon INFO @ 12:59:45] [setup] CPU Tracking...\n",
      "[codecarbon WARNING @ 12:59:45] No CPU tracking mode found. Falling back on CPU constant mode. \n",
      " Linux OS detected: Please ensure RAPL files exist at \\sys\\class\\powercap\\intel-rapl to measure CPU\n",
      "\n",
      "[codecarbon INFO @ 12:59:46] CPU Model on constant consumption mode: Intel(R) Xeon(R) Platinum 8171M CPU @ 2.60GHz\n",
      "[codecarbon INFO @ 12:59:46] >>> Tracker's metadata:\n",
      "[codecarbon INFO @ 12:59:46]   Platform system: Linux-5.15.0-1064-azure-x86_64-with-glibc2.31\n",
      "[codecarbon INFO @ 12:59:46]   Python version: 3.10.14\n",
      "[codecarbon INFO @ 12:59:46]   CodeCarbon version: 2.7.1\n",
      "[codecarbon INFO @ 12:59:46]   Available RAM : 13.648 GB\n",
      "[codecarbon INFO @ 12:59:46]   CPU count: 2\n",
      "[codecarbon INFO @ 12:59:46]   CPU model: Intel(R) Xeon(R) Platinum 8171M CPU @ 2.60GHz\n",
      "[codecarbon INFO @ 12:59:46]   GPU count: None\n",
      "[codecarbon INFO @ 12:59:46]   GPU model: None\n",
      "[codecarbon WARNING @ 12:59:46] Cloud provider 'azure' do not publish electricity carbon intensity. Using country value instead.\n",
      "[codecarbon INFO @ 12:59:47] Saving emissions data to file /mnt/batch/tasks/shared/LS_root/mounts/clusters/loektest310/code/emissions.csv\n",
      "[codecarbon INFO @ 12:59:52] \n",
      "Graceful stopping: collecting and writing information.\n",
      "Please wait a few seconds...\n",
      "[codecarbon INFO @ 12:59:52] Energy consumed for RAM : 0.000007 kWh. RAM Power : 5.1181769371032715 W\n",
      "[codecarbon INFO @ 12:59:52] Energy consumed for all CPUs : 0.000115 kWh. Total CPU Power : 82.5 W\n",
      "[codecarbon INFO @ 12:59:52] 0.000122 kWh of electricity used since the beginning.\n",
      "[codecarbon INFO @ 12:59:52] Done!\n",
      "\n"
     ]
    }
   ],
   "source": [
    "import numpy as np\n",
    "from sklearn.model_selection import train_test_split\n",
    "from sklearn.linear_model import LogisticRegression\n",
    "from sklearn.metrics import accuracy_score\n",
    "\n",
    "from codecarbon import track_emissions\n",
    "\n",
    "\n",
    "@track_emissions(project_name=\"decorator\")\n",
    "def train_model():\n",
    "    # We create some random data to train on\n",
    "    np.random.seed(42)  \n",
    "    X = np.random.rand(1000, 5)  \n",
    "    y = (np.sum(X, axis=1) > 2.5).astype(int) \n",
    "    # Split the data into training and testing sets (80% train, 20% test)\n",
    "    X_train, X_test, y_train, y_test = train_test_split(X, y, test_size=0.2, random_state=42)\n",
    "\n",
    "    # Initialize and train a simple logistic regression model\n",
    "    model = LogisticRegression()\n",
    "    # We sleep for 5 sec to actually have some results\n",
    "    time.sleep(5)\n",
    "    return model\n",
    "\n",
    "model = train_model()"
   ]
  },
  {
   "cell_type": "markdown",
   "metadata": {},
   "source": [
    "## Visualization\n",
    "CodeCarbon comes with a `Dash App` where the emissions are visualized.\n",
    "\n",
    "To run it, we execute the CLI command below:\n",
    "\n",
    "`carbonboard --filepath=\"emissions.csv\" --port=3333`"
   ]
  },
  {
   "cell_type": "code",
   "execution_count": 7,
   "metadata": {},
   "outputs": [],
   "source": [
    "import os"
   ]
  },
  {
   "cell_type": "code",
   "execution_count": null,
   "metadata": {},
   "outputs": [],
   "source": []
  }
 ],
 "metadata": {
  "kernelspec": {
   "display_name": "Python 3.10 - SDK v2",
   "language": "python",
   "name": "python310-sdkv2"
  },
  "language_info": {
   "codemirror_mode": {
    "name": "ipython",
    "version": 3
   },
   "file_extension": ".py",
   "mimetype": "text/x-python",
   "name": "python",
   "nbconvert_exporter": "python",
   "pygments_lexer": "ipython3",
   "version": "3.10.14"
  }
 },
 "nbformat": 4,
 "nbformat_minor": 2
}
