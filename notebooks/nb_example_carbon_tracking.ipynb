{
 "cells": [
  {
   "cell_type": "markdown",
   "metadata": {},
   "source": [
    "# Code Carbon Tracking\n",
    "This notebooks is an example of how we can track the carbon impact of our work within the AI Lab.\n",
    "\n",
    "We have several methods dependent on what we want to track.\n",
    "\n",
    "We use a Python Package called CodeCarbon (https://github.com/mlco2/codecarbon) for this."
   ]
  },
  {
   "cell_type": "markdown",
   "metadata": {},
   "source": [
    "### Tracking whole Notebook\n",
    "To track the whole notebook we need to start the tracker at the beginning of the notebook, and stop the tracker in the end of the notebook.\n",
    "\n",
    "We can also use this method for tracking "
   ]
  },
  {
   "cell_type": "code",
   "execution_count": null,
   "metadata": {},
   "outputs": [],
   "source": [
    "# Codeblock where we import the EmissionsTracker and start the tracker.\n",
    "# This should be placed at the beginning of the notebook if we want to track the whole notebook.\n",
    "from codecarbon import EmissionsTracker\n",
    "tracker = EmissionsTracker()\n",
    "tracker.start()"
   ]
  },
  {
   "cell_type": "code",
   "execution_count": null,
   "metadata": {},
   "outputs": [],
   "source": [
    "# Codeblock where we stop the tracker.\n",
    "# This should be placed at the end of the notebook if we want to track the whole notebook.\n",
    "tracker.stop()"
   ]
  },
  {
   "cell_type": "markdown",
   "metadata": {},
   "source": [
    "### Tracking multiple _small_ pieces of code individually\n",
    "To track a small piece of code we use the _task manager_. \n",
    "\n",
    "This way CodeCarbon will track the emissions of each task. \n",
    "\n",
    "The task will not be written to disk to prevent overhead, you have to get the results from the return of `stop_task()`. \n",
    "\n",
    "If no name is provided, CodeCarbon will generate a uuid.\n",
    "\n"
   ]
  },
  {
   "cell_type": "code",
   "execution_count": null,
   "metadata": {},
   "outputs": [],
   "source": [
    "from codecarbon import EmissionsTracker\n",
    "import datasets\n",
    "\n",
    "try:\n",
    "    tracker = EmissionsTracker(project_name=\"small_pieces\", measure_power_secs=10)\n",
    "    # We start a specific task using the tracker\n",
    "    tracker.start_task(\"load dataset\")\n",
    "    dataset = load_dataset(\"imdb\", split=\"test\")\n",
    "    # We have to stop individual tasks\n",
    "    imdb_emissions = tracker.stop_task()\n",
    "    tracker.start_task(\"build model\")\n",
    "    model = build_model()\n",
    "    model_emissions = tracker.stop_task()\n",
    "finally:\n",
    "    # We \n",
    "    _ = tracker.stop()"
   ]
  },
  {
   "cell_type": "markdown",
   "metadata": {},
   "source": [
    "Please note that you can’t use task mode and normal mode at the same time. \n",
    "\n",
    "Because `start_task` will stop the scheduler to prevent it interfering with the task measurement.\n",
    "\n"
   ]
  },
  {
   "cell_type": "markdown",
   "metadata": {},
   "source": [
    "### Tracking a specific codeblock\n",
    "To track a specific codeblock we can use the `EmissionsTracker` as a context manager."
   ]
  },
  {
   "cell_type": "code",
   "execution_count": null,
   "metadata": {},
   "outputs": [],
   "source": [
    "from codecarbon import EmissionsTracker\n",
    "\n",
    "with EmissionsTracker() as tracker:\n",
    "    # Compute intensive training code goes here"
   ]
  },
  {
   "cell_type": "markdown",
   "metadata": {},
   "source": [
    "### Tracking a function\n",
    "To track code wrapped within a function, we can use the decorator `@track_emissions` within the function."
   ]
  },
  {
   "cell_type": "code",
   "execution_count": null,
   "metadata": {},
   "outputs": [],
   "source": [
    "from codecarbon import track_emissions\n",
    "\n",
    "@track_emissions\n",
    "def training_loop():\n",
    "    # Compute intensive training code goes here"
   ]
  },
  {
   "cell_type": "markdown",
   "metadata": {},
   "source": [
    "## Examples\n",
    "Following are examples to train a Deep Learning model on MNIST Data to recognize digits in images using TensorFlow. "
   ]
  },
  {
   "cell_type": "markdown",
   "metadata": {},
   "source": [
    "### Using the Explicit Object\n",
    "We can use this to simply start and stop a tracker object and track all code between start and stop."
   ]
  },
  {
   "cell_type": "code",
   "execution_count": null,
   "metadata": {},
   "outputs": [],
   "source": [
    "import numpy as np\n",
    "from sklearn.model_selection import train_test_split\n",
    "from sklearn.linear_model import LogisticRegression\n",
    "from sklearn.metrics import accuracy_score\n",
    "import time\n",
    "\n",
    "from codecarbon import EmissionsTracker\n",
    "\n",
    "# We create some random data to \n",
    "np.random.seed(42)  \n",
    "X = np.random.rand(1000, 5)  \n",
    "y = (np.sum(X, axis=1) > 2.5).astype(int) \n",
    "\n",
    "# Split the data into training and testing sets (80% train, 20% test)\n",
    "X_train, X_test, y_train, y_test = train_test_split(X, y, test_size=0.2, random_state=42)\n",
    "\n",
    "# Initialize and train a simple logistic regression model\n",
    "model = LogisticRegression()\n",
    "\n",
    "# Initialize and start the emissions tracker\n",
    "tracker = EmissionsTracker('explicit_object')\n",
    "tracker.start()\n",
    "\n",
    "# Fit the model\n",
    "model.fit(X_train, y_train)\n",
    "\n",
    "# We sleep for 5 sec to actually have some results\n",
    "time.sleep(5)\n",
    "\n",
    "# Stop the emissions tracker and output the emissions data\n",
    "emissions: float =  tracker.stop()\n",
    "print(f\"Emissions during training: {emissions:.8f} kg CO2eq\")\n"
   ]
  },
  {
   "cell_type": "markdown",
   "metadata": {},
   "source": [
    "### Using the Context Manager"
   ]
  },
  {
   "cell_type": "code",
   "execution_count": null,
   "metadata": {},
   "outputs": [],
   "source": [
    "import numpy as np\n",
    "from sklearn.model_selection import train_test_split\n",
    "from sklearn.linear_model import LogisticRegression\n",
    "from sklearn.metrics import accuracy_score\n",
    "import time\n",
    "\n",
    "from codecarbon import EmissionsTracker\n",
    "\n",
    "# We create some random data to \n",
    "np.random.seed(42)  \n",
    "X = np.random.rand(1000, 5)  \n",
    "y = (np.sum(X, axis=1) > 2.5).astype(int) \n",
    "\n",
    "# Split the data into training and testing sets (80% train, 20% test)\n",
    "X_train, X_test, y_train, y_test = train_test_split(X, y, test_size=0.2, random_state=42)\n",
    "\n",
    "# Initialize and train a simple logistic regression model\n",
    "model = LogisticRegression()\n",
    "\n",
    "\n",
    "with EmissionsTracker('context_manager') as tracker:\n",
    "    # Fit the model\n",
    "    model.fit(X_train, y_train)\n",
    "    # We sleep for 5 sec to actually have some results\n",
    "    time.sleep(5)\n",
    "    "
   ]
  },
  {
   "cell_type": "markdown",
   "metadata": {},
   "source": [
    "### Using the Decorator"
   ]
  },
  {
   "cell_type": "code",
   "execution_count": null,
   "metadata": {},
   "outputs": [],
   "source": [
    "import numpy as np\n",
    "from sklearn.model_selection import train_test_split\n",
    "from sklearn.linear_model import LogisticRegression\n",
    "from sklearn.metrics import accuracy_score\n",
    "\n",
    "from codecarbon import track_emissions\n",
    "\n",
    "\n",
    "@track_emissions(project_name=\"decorator\")\n",
    "def train_model():\n",
    "    # We create some random data to train on\n",
    "    np.random.seed(42)  \n",
    "    X = np.random.rand(1000, 5)  \n",
    "    y = (np.sum(X, axis=1) > 2.5).astype(int) \n",
    "    # Split the data into training and testing sets (80% train, 20% test)\n",
    "    X_train, X_test, y_train, y_test = train_test_split(X, y, test_size=0.2, random_state=42)\n",
    "\n",
    "    # Initialize and train a simple logistic regression model\n",
    "    model = LogisticRegression()\n",
    "    # We sleep for 5 sec to actually have some results\n",
    "    time.sleep(5)\n",
    "    return model\n",
    "\n",
    "model = train_model()"
   ]
  },
  {
   "cell_type": "markdown",
   "metadata": {},
   "source": [
    "## Visualization\n",
    "CodeCarbon comes with a `Dash App` where the emissions are visualized.\n",
    "\n",
    "To run it, we execute the CLI command below:\n",
    "\n",
    "`carbonboard --filepath=\"emissions.csv\" --port=3333`"
   ]
  }
 ],
 "metadata": {
  "kernelspec": {
   "display_name": ".venv",
   "language": "python",
   "name": "python3"
  },
  "language_info": {
   "codemirror_mode": {
    "name": "ipython",
    "version": 3
   },
   "file_extension": ".py",
   "mimetype": "text/x-python",
   "name": "python",
   "nbconvert_exporter": "python",
   "pygments_lexer": "ipython3",
   "version": "3.11.8"
  }
 },
 "nbformat": 4,
 "nbformat_minor": 2
}
