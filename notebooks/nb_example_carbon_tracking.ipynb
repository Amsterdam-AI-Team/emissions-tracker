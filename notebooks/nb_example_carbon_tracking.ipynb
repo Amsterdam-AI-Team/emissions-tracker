{
 "cells": [
  {
   "cell_type": "markdown",
   "metadata": {},
   "source": [
    "# Code Carbon Tracking\n",
    "This notebooks is an example of how we can track the carbon impact of our work within the AI Lab.\n",
    "\n",
    "We have several methods dependent on what we want to track.\n",
    "\n",
    "We use a Python Package called CodeCarbon (https://github.com/mlco2/codecarbon) for this."
   ]
  },
  {
   "cell_type": "markdown",
   "metadata": {},
   "source": [
    "### Tracking whole Notebook\n",
    "To track the whole notebook we need to start the tracker at the beginning of the notebook, and stop the tracker in the end of the notebook.\n",
    "\n",
    "We can also use this method for tracking "
   ]
  },
  {
   "cell_type": "code",
   "execution_count": 1,
   "metadata": {},
   "outputs": [
    {
     "name": "stderr",
     "output_type": "stream",
     "text": [
      "[codecarbon INFO @ 11:52:55] [setup] RAM Tracking...\n",
      "[codecarbon INFO @ 11:52:56] [setup] GPU Tracking...\n",
      "[codecarbon INFO @ 11:52:56] No GPU found.\n",
      "[codecarbon INFO @ 11:52:56] [setup] CPU Tracking...\n",
      "[codecarbon WARNING @ 11:52:56] No CPU tracking mode found. Falling back on CPU constant mode. \n",
      " Windows OS detected: Please install Intel Power Gadget to measure CPU\n",
      "\n",
      "[codecarbon INFO @ 11:52:57] CPU Model on constant consumption mode: 13th Gen Intel(R) Core(TM) i7-1360P\n",
      "[codecarbon INFO @ 11:52:57] >>> Tracker's metadata:\n",
      "[codecarbon INFO @ 11:52:57]   Platform system: Windows-10-10.0.22631-SP0\n",
      "[codecarbon INFO @ 11:52:57]   Python version: 3.11.8\n",
      "[codecarbon INFO @ 11:52:57]   CodeCarbon version: 2.7.0\n",
      "[codecarbon INFO @ 11:52:57]   Available RAM : 31.641 GB\n",
      "[codecarbon INFO @ 11:52:57]   CPU count: 16\n",
      "[codecarbon INFO @ 11:52:57]   CPU model: 13th Gen Intel(R) Core(TM) i7-1360P\n",
      "[codecarbon INFO @ 11:52:57]   GPU count: None\n",
      "[codecarbon INFO @ 11:52:57]   GPU model: None\n",
      "[codecarbon INFO @ 11:52:57] Saving emissions data to file c:\\Users\\berker007\\OneDrive - Gemeente Amsterdam\\AI Lab\\Projects\\carbon_emission_tracking\\notebooks\\emissions.csv\n"
     ]
    },
    {
     "name": "stdout",
     "output_type": "stream",
     "text": [
      "ref: c:\\Users\\berker007\\OneDrive - Gemeente Amsterdam\\AI Lab\\Projects\\carbon_emission_tracking\\.venv\\Lib\\site-packages\\codecarbon\\data\\hardware\\cpu_power.csv\n"
     ]
    }
   ],
   "source": [
    "# Codeblock where we import the EmissionsTracker and start the tracker.\n",
    "# This should be placed at the beginning of the notebook if we want to track the whole notebook.\n",
    "from codecarbon import EmissionsTracker\n",
    "tracker = EmissionsTracker()\n",
    "tracker.start()"
   ]
  },
  {
   "cell_type": "code",
   "execution_count": 2,
   "metadata": {},
   "outputs": [
    {
     "name": "stderr",
     "output_type": "stream",
     "text": [
      "[codecarbon INFO @ 11:53:01] Energy consumed for RAM : 0.000011 kWh. RAM Power : 11.865334510803223 W\n",
      "[codecarbon INFO @ 11:53:01] Energy consumed for all CPUs : 0.000013 kWh. Total CPU Power : 14.0 W\n",
      "[codecarbon INFO @ 11:53:01] 0.000024 kWh of electricity used since the beginning.\n",
      "[codecarbon INFO @ 11:53:01] Backing up old emission file\n"
     ]
    },
    {
     "name": "stdout",
     "output_type": "stream",
     "text": [
      "ref: c:\\Users\\berker007\\OneDrive - Gemeente Amsterdam\\AI Lab\\Projects\\carbon_emission_tracking\\.venv\\Lib\\site-packages\\codecarbon\\data\\private_infra\\global_energy_mix.json\n"
     ]
    },
    {
     "name": "stderr",
     "output_type": "stream",
     "text": [
      "c:\\Users\\berker007\\OneDrive - Gemeente Amsterdam\\AI Lab\\Projects\\carbon_emission_tracking\\.venv\\Lib\\site-packages\\codecarbon\\output_methods\\file.py:52: FutureWarning: The behavior of DataFrame concatenation with empty or all-NA entries is deprecated. In a future version, this will no longer exclude empty or all-NA columns when determining the result dtypes. To retain the old behavior, exclude the relevant entries before the concat operation.\n",
      "  df = pd.concat([df, pd.DataFrame.from_records([dict(total.values)])])\n"
     ]
    },
    {
     "data": {
      "text/plain": [
       "6.348807983175387e-06"
      ]
     },
     "execution_count": 2,
     "metadata": {},
     "output_type": "execute_result"
    }
   ],
   "source": [
    "# Codeblock where we stop the tracker.\n",
    "# This should be placed at the end of the notebook if we want to track the whole notebook.\n",
    "tracker.stop()"
   ]
  },
  {
   "cell_type": "markdown",
   "metadata": {},
   "source": [
    "### Tracking multiple _small_ pieces of code individually\n",
    "To track a small piece of code we use the _task manager_. \n",
    "\n",
    "This way CodeCarbon will track the emissions of each task. \n",
    "\n",
    "The task will not be written to disk to prevent overhead, you have to get the results from the return of `stop_task()`. \n",
    "\n",
    "If no name is provided, CodeCarbon will generate a uuid.\n",
    "\n"
   ]
  },
  {
   "cell_type": "code",
   "execution_count": 4,
   "metadata": {},
   "outputs": [
    {
     "name": "stderr",
     "output_type": "stream",
     "text": [
      "[codecarbon INFO @ 11:55:20] [setup] RAM Tracking...\n",
      "[codecarbon INFO @ 11:55:20] [setup] GPU Tracking...\n",
      "[codecarbon INFO @ 11:55:20] No GPU found.\n",
      "[codecarbon INFO @ 11:55:20] [setup] CPU Tracking...\n",
      "[codecarbon WARNING @ 11:55:20] No CPU tracking mode found. Falling back on CPU constant mode. \n",
      " Windows OS detected: Please install Intel Power Gadget to measure CPU\n",
      "\n",
      "[codecarbon INFO @ 11:55:21] CPU Model on constant consumption mode: 13th Gen Intel(R) Core(TM) i7-1360P\n",
      "[codecarbon INFO @ 11:55:21] >>> Tracker's metadata:\n",
      "[codecarbon INFO @ 11:55:21]   Platform system: Windows-10-10.0.22631-SP0\n",
      "[codecarbon INFO @ 11:55:21]   Python version: 3.11.8\n",
      "[codecarbon INFO @ 11:55:21]   CodeCarbon version: 2.7.0\n",
      "[codecarbon INFO @ 11:55:21]   Available RAM : 31.641 GB\n",
      "[codecarbon INFO @ 11:55:21]   CPU count: 16\n",
      "[codecarbon INFO @ 11:55:21]   CPU model: 13th Gen Intel(R) Core(TM) i7-1360P\n",
      "[codecarbon INFO @ 11:55:21]   GPU count: None\n",
      "[codecarbon INFO @ 11:55:21]   GPU model: None\n",
      "[codecarbon INFO @ 11:55:21] Saving emissions data to file c:\\Users\\berker007\\OneDrive - Gemeente Amsterdam\\AI Lab\\Projects\\carbon_emission_tracking\\notebooks\\emissions.csv\n"
     ]
    },
    {
     "name": "stdout",
     "output_type": "stream",
     "text": [
      "ref: c:\\Users\\berker007\\OneDrive - Gemeente Amsterdam\\AI Lab\\Projects\\carbon_emission_tracking\\.venv\\Lib\\site-packages\\codecarbon\\data\\hardware\\cpu_power.csv\n"
     ]
    },
    {
     "name": "stderr",
     "output_type": "stream",
     "text": [
      "[codecarbon INFO @ 11:55:21] Energy consumed for RAM : 0.000000 kWh. RAM Power : 11.865334510803223 W\n",
      "[codecarbon INFO @ 11:55:21] Energy consumed for all CPUs : 0.000000 kWh. Total CPU Power : 14.0 W\n",
      "[codecarbon INFO @ 11:55:21] 0.000000 kWh of electricity used since the beginning.\n",
      "[codecarbon INFO @ 11:55:21] Energy consumed for RAM : 0.000000 kWh. RAM Power : 11.865334510803223 W\n",
      "[codecarbon INFO @ 11:55:21] Energy consumed for all CPUs : 0.000000 kWh. Total CPU Power : 14.0 W\n",
      "[codecarbon INFO @ 11:55:21] 0.000000 kWh of electricity used since the beginning.\n"
     ]
    },
    {
     "name": "stdout",
     "output_type": "stream",
     "text": [
      "ref: c:\\Users\\berker007\\OneDrive - Gemeente Amsterdam\\AI Lab\\Projects\\carbon_emission_tracking\\.venv\\Lib\\site-packages\\codecarbon\\data\\private_infra\\global_energy_mix.json\n",
      "ref: c:\\Users\\berker007\\OneDrive - Gemeente Amsterdam\\AI Lab\\Projects\\carbon_emission_tracking\\.venv\\Lib\\site-packages\\codecarbon\\data\\private_infra\\global_energy_mix.json\n",
      "ref: c:\\Users\\berker007\\OneDrive - Gemeente Amsterdam\\AI Lab\\Projects\\carbon_emission_tracking\\.venv\\Lib\\site-packages\\codecarbon\\data\\private_infra\\global_energy_mix.json\n"
     ]
    },
    {
     "name": "stderr",
     "output_type": "stream",
     "text": [
      "c:\\Users\\berker007\\OneDrive - Gemeente Amsterdam\\AI Lab\\Projects\\carbon_emission_tracking\\.venv\\Lib\\site-packages\\codecarbon\\output_methods\\file.py:81: FutureWarning: The behavior of DataFrame concatenation with empty or all-NA entries is deprecated. In a future version, this will no longer exclude empty or all-NA columns when determining the result dtypes. To retain the old behavior, exclude the relevant entries before the concat operation.\n",
      "  df = pd.concat(\n"
     ]
    },
    {
     "ename": "NameError",
     "evalue": "name 'datasets' is not defined",
     "output_type": "error",
     "traceback": [
      "\u001b[1;31m---------------------------------------------------------------------------\u001b[0m",
      "\u001b[1;31mNameError\u001b[0m                                 Traceback (most recent call last)",
      "Cell \u001b[1;32mIn[4], line 7\u001b[0m\n\u001b[0;32m      5\u001b[0m \u001b[38;5;66;03m# We start a specific task using the tracker\u001b[39;00m\n\u001b[0;32m      6\u001b[0m tracker\u001b[38;5;241m.\u001b[39mstart_task(\u001b[38;5;124m\"\u001b[39m\u001b[38;5;124mload dataset\u001b[39m\u001b[38;5;124m\"\u001b[39m)\n\u001b[1;32m----> 7\u001b[0m dataset \u001b[38;5;241m=\u001b[39m \u001b[43mdatasets\u001b[49m\u001b[38;5;241m.\u001b[39mload_dataset(\u001b[38;5;124m\"\u001b[39m\u001b[38;5;124mimdb\u001b[39m\u001b[38;5;124m\"\u001b[39m, split\u001b[38;5;241m=\u001b[39m\u001b[38;5;124m\"\u001b[39m\u001b[38;5;124mtest\u001b[39m\u001b[38;5;124m\"\u001b[39m)\n\u001b[0;32m      8\u001b[0m \u001b[38;5;66;03m# We have to stop individual tasks\u001b[39;00m\n\u001b[0;32m      9\u001b[0m imdb_emissions \u001b[38;5;241m=\u001b[39m tracker\u001b[38;5;241m.\u001b[39mstop_task()\n",
      "\u001b[1;31mNameError\u001b[0m: name 'datasets' is not defined"
     ]
    }
   ],
   "source": [
    "from codecarbon import EmissionsTracker\n",
    "\n",
    "try:\n",
    "    tracker = EmissionsTracker(project_name=\"bert_inference\", measure_power_secs=10)\n",
    "    # We start a specific task using the tracker\n",
    "    tracker.start_task(\"load dataset\")\n",
    "    dataset = datasets.load_dataset(\"imdb\", split=\"test\")\n",
    "    # We have to stop individual tasks\n",
    "    imdb_emissions = tracker.stop_task()\n",
    "    tracker.start_task(\"build model\")\n",
    "    model = build_model()\n",
    "    model_emissions = tracker.stop_task()\n",
    "finally:\n",
    "    # We \n",
    "    _ = tracker.stop()"
   ]
  },
  {
   "cell_type": "markdown",
   "metadata": {},
   "source": [
    "Please note that you can’t use task mode and normal mode at the same time. \n",
    "\n",
    "Because `start_task` will stop the scheduler to prevent it interfering with the task measurement.\n",
    "\n"
   ]
  },
  {
   "cell_type": "markdown",
   "metadata": {},
   "source": [
    "### Tracking a specific codeblock\n",
    "To track a specific codeblock we can use the `EmissionsTracker` as a context manager."
   ]
  },
  {
   "cell_type": "code",
   "execution_count": null,
   "metadata": {},
   "outputs": [],
   "source": [
    "from codecarbon import EmissionsTracker\n",
    "\n",
    "with EmissionsTracker() as tracker:\n",
    "    # Compute intensive training code goes here"
   ]
  },
  {
   "cell_type": "markdown",
   "metadata": {},
   "source": [
    "### Tracking a function\n",
    "To track code wrapped within a function, we can use the decorator `@track_emissions` within the function."
   ]
  },
  {
   "cell_type": "code",
   "execution_count": null,
   "metadata": {},
   "outputs": [],
   "source": [
    "from codecarbon import track_emissions\n",
    "\n",
    "@track_emissions\n",
    "def training_loop():\n",
    "    # Compute intensive training code goes here"
   ]
  },
  {
   "cell_type": "markdown",
   "metadata": {},
   "source": [
    "## Examples\n",
    "Following are examples to train a Deep Learning model on MNIST Data to recognize digits in images using TensorFlow. "
   ]
  },
  {
   "cell_type": "markdown",
   "metadata": {},
   "source": [
    "### Using the Explicit Object\n",
    "We can use this to simply start and stop a tracker object and track all code between start and stop."
   ]
  },
  {
   "cell_type": "code",
   "execution_count": 10,
   "metadata": {},
   "outputs": [
    {
     "ename": "ModuleNotFoundError",
     "evalue": "No module named 'tensorflow'",
     "output_type": "error",
     "traceback": [
      "\u001b[1;31m---------------------------------------------------------------------------\u001b[0m",
      "\u001b[1;31mModuleNotFoundError\u001b[0m                       Traceback (most recent call last)",
      "Cell \u001b[1;32mIn[10], line 1\u001b[0m\n\u001b[1;32m----> 1\u001b[0m \u001b[38;5;28;01mimport\u001b[39;00m \u001b[38;5;21;01mtensorflow\u001b[39;00m \u001b[38;5;28;01mas\u001b[39;00m \u001b[38;5;21;01mtf\u001b[39;00m\n\u001b[0;32m      3\u001b[0m \u001b[38;5;28;01mfrom\u001b[39;00m \u001b[38;5;21;01mcodecarbon\u001b[39;00m \u001b[38;5;28;01mimport\u001b[39;00m EmissionsTracker\n\u001b[0;32m      5\u001b[0m mnist \u001b[38;5;241m=\u001b[39m tf\u001b[38;5;241m.\u001b[39mkeras\u001b[38;5;241m.\u001b[39mdatasets\u001b[38;5;241m.\u001b[39mmnist\n",
      "\u001b[1;31mModuleNotFoundError\u001b[0m: No module named 'tensorflow'"
     ]
    }
   ],
   "source": [
    "import tensorflow as tf\n",
    "\n",
    "from codecarbon import EmissionsTracker\n",
    "\n",
    "mnist = tf.keras.datasets.mnist\n",
    "\n",
    "(x_train, y_train), (x_test, y_test) = mnist.load_data()\n",
    "x_train, x_test = x_train / 255.0, x_test / 255.0\n",
    "\n",
    "\n",
    "model = tf.keras.models.Sequential(\n",
    "    [\n",
    "        tf.keras.layers.Flatten(input_shape=(28, 28)),\n",
    "        tf.keras.layers.Dense(128, activation=\"relu\"),\n",
    "        tf.keras.layers.Dropout(0.2),\n",
    "        tf.keras.layers.Dense(10),\n",
    "    ]\n",
    ")\n",
    "\n",
    "loss_fn = tf.keras.losses.SparseCategoricalCrossentropy(from_logits=True)\n",
    "\n",
    "model.compile(optimizer=\"adam\", loss=loss_fn, metrics=[\"accuracy\"])\n",
    "\n",
    "tracker = EmissionsTracker(default_cpu_power=28, project_name=\"test1\")\n",
    "tracker.start()\n",
    "model.fit(x_train, y_train, epochs=10)\n",
    "emissions: float = tracker.stop()\n",
    "print(emissions)"
   ]
  },
  {
   "cell_type": "markdown",
   "metadata": {},
   "source": [
    "### Using the Context Manager"
   ]
  },
  {
   "cell_type": "code",
   "execution_count": null,
   "metadata": {},
   "outputs": [],
   "source": [
    "import tensorflow as tf\n",
    "\n",
    "from codecarbon import EmissionsTracker\n",
    "\n",
    "mnist = tf.keras.datasets.mnist\n",
    "\n",
    "(x_train, y_train), (x_test, y_test) = mnist.load_data()\n",
    "x_train, x_test = x_train / 255.0, x_test / 255.0\n",
    "\n",
    "\n",
    "model = tf.keras.models.Sequential(\n",
    "    [\n",
    "        tf.keras.layers.Flatten(input_shape=(28, 28)),\n",
    "        tf.keras.layers.Dense(128, activation=\"relu\"),\n",
    "        tf.keras.layers.Dropout(0.2),\n",
    "        tf.keras.layers.Dense(10),\n",
    "    ]\n",
    ")\n",
    "\n",
    "loss_fn = tf.keras.losses.SparseCategoricalCrossentropy(from_logits=True)\n",
    "\n",
    "with EmissionsTracker() as tracker:\n",
    "    model.compile(optimizer=\"adam\", loss=loss_fn, metrics=[\"accuracy\"])\n",
    "    model.fit(x_train, y_train, epochs=10)"
   ]
  },
  {
   "cell_type": "markdown",
   "metadata": {},
   "source": [
    "### Using the Decorator"
   ]
  },
  {
   "cell_type": "code",
   "execution_count": null,
   "metadata": {},
   "outputs": [],
   "source": [
    "import tensorflow as tf\n",
    "\n",
    "from codecarbon import track_emissions\n",
    "\n",
    "\n",
    "@track_emissions(project_name=\"mnist\")\n",
    "def train_model():\n",
    "    mnist = tf.keras.datasets.mnist\n",
    "    (x_train, y_train), (x_test, y_test) = mnist.load_data()\n",
    "    x_train, x_test = x_train / 255.0, x_test / 255.0\n",
    "    model = tf.keras.models.Sequential(\n",
    "        [\n",
    "            tf.keras.layers.Flatten(input_shape=(28, 28)),\n",
    "            tf.keras.layers.Dense(128, activation=\"relu\"),\n",
    "            tf.keras.layers.Dropout(0.2),\n",
    "            tf.keras.layers.Dense(10),\n",
    "        ]\n",
    "    )\n",
    "    loss_fn = tf.keras.losses.SparseCategoricalCrossentropy(from_logits=True)\n",
    "\n",
    "    model.compile(optimizer=\"adam\", loss=loss_fn, metrics=[\"accuracy\"])\n",
    "\n",
    "    model.fit(x_train, y_train, epochs=10)\n",
    "\n",
    "    return model\n",
    "\n",
    "\n",
    "if __name__ == \"__main__\":\n",
    "    model = train_model()"
   ]
  },
  {
   "cell_type": "markdown",
   "metadata": {},
   "source": [
    "## Visualization\n",
    "CodeCarbon comes with a `Dash App` where the emissions are visualized.\n",
    "\n",
    "To run it, we execute the CLI command below:\n",
    "\n",
    "`carbonboard --filepath=\"emissions.csv\" --port=3333`"
   ]
  }
 ],
 "metadata": {
  "kernelspec": {
   "display_name": ".venv",
   "language": "python",
   "name": "python3"
  },
  "language_info": {
   "codemirror_mode": {
    "name": "ipython",
    "version": 3
   },
   "file_extension": ".py",
   "mimetype": "text/x-python",
   "name": "python",
   "nbconvert_exporter": "python",
   "pygments_lexer": "ipython3",
   "version": "3.11.8"
  }
 },
 "nbformat": 4,
 "nbformat_minor": 2
}
